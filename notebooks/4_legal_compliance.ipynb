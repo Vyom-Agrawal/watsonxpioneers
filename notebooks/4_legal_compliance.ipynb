from src.legal_advice import LegalCompliance

lc = LegalCompliance()
# Example: check FPIC compliance for a project
fpic_report = lc.generate_fpic_report({
    "location": "Congo Basin",
    "community_size": 1500
})
print(fpic_report)
